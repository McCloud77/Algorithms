{
 "cells": [
  {
   "cell_type": "markdown",
   "metadata": {},
   "source": [
    "Breadth-first search (BFS) is an algorithm for traversing or searching tree or graph data structures. It starts at the tree root (or some arbitrary node of a graph) and explores all of the neighbor nodes at the present depth prior to moving on to the nodes at the next depth level.  \n",
    "\n",
    "The problem of finding the shortest path between two positions for a knight on a chessboard can be solved with BFS."
   ]
  },
  {
   "cell_type": "code",
   "execution_count": 1,
   "metadata": {},
   "outputs": [],
   "source": [
    "from collections import deque"
   ]
  },
  {
   "cell_type": "markdown",
   "metadata": {},
   "source": [
    "Deques support thread-safe, memory efficient appends and pops from either side of the deque with approximately the same O(1) performance in either direction."
   ]
  },
  {
   "cell_type": "code",
   "execution_count": 2,
   "metadata": {},
   "outputs": [],
   "source": [
    "class Knight:\n",
    "    \n",
    "    def __init__(self, a, b, n):\n",
    "        self.ori = (0,0,0) # (x,y,number_of_moves)\n",
    "        self.dest = (n-1, n-1)\n",
    "        self.n = n-1\n",
    "        self.d = deque()\n",
    "        self.visited = []\n",
    "        self.moves = [(a, b), (a, -b), (-a, b), (-a, -b),\n",
    "                      (b, a), (b, -a), (-b, a), (-b, -a)]\n",
    "        \n",
    "    def valid(self, tup):\n",
    "        x = tup[0]\n",
    "        y = tup[1]\n",
    "        if (x < 0) or (x > self.n) or (y < 0) or (y > self.n):\n",
    "            return False\n",
    "        else:\n",
    "            return True\n",
    "        \n",
    "    def enqueue(self, tup):\n",
    "        self.d.append(tup) # append right\n",
    "        \n",
    "    def dequeue(self):\n",
    "        return(self.d.popleft()) # pop left\n",
    "    \n",
    "    def shortest_path(self):\n",
    "        self.enqueue(self.ori)\n",
    "        \n",
    "        while (len(self.d)) > 0:\n",
    "            pos = self.dequeue()\n",
    "            if pos[:2] == self.dest:\n",
    "                return pos\n",
    "            else:\n",
    "                if pos[:2] not in self.visited:\n",
    "                    self.visited.append(pos[:2])\n",
    "                    # enqueue all valid moves with 1 more step than pos (parent)\n",
    "                    for move in self.moves:\n",
    "                        new_x = pos[0] + move[0]\n",
    "                        new_y = pos[1] + move[1]\n",
    "                        if self.valid((new_x, new_y)) and ((new_x, new_y) not in self.visited):\n",
    "                            self.enqueue((new_x, new_y, pos[2]+1))\n",
    "        return (0,0,0) # no path\n",
    "    "
   ]
  },
  {
   "cell_type": "markdown",
   "metadata": {},
   "source": [
    "**For n=5, how many moves are in the shortest path for knight(1,2)?**"
   ]
  },
  {
   "cell_type": "code",
   "execution_count": 3,
   "metadata": {},
   "outputs": [
    {
     "name": "stdout",
     "output_type": "stream",
     "text": [
      "Number of moves: 4\n"
     ]
    }
   ],
   "source": [
    "k = Knight(1, 2, 5)\n",
    "res = k.shortest_path()\n",
    "print('Number of moves:', res[-1])"
   ]
  },
  {
   "cell_type": "markdown",
   "metadata": {},
   "source": [
    "**For n=5, what is the sum of the number of moves for the shortest paths for all knights with a<=b?**"
   ]
  },
  {
   "cell_type": "code",
   "execution_count": 4,
   "metadata": {},
   "outputs": [
    {
     "name": "stdout",
     "output_type": "stream",
     "text": [
      "Sum of moves: 43\n"
     ]
    }
   ],
   "source": [
    "total = 0\n",
    "for i in range(5):\n",
    "    for j in range(5):\n",
    "        if (i <= j):\n",
    "            k = Knight(i, j, 5)\n",
    "            res = k.shortest_path()\n",
    "            total += res[-1]\n",
    "print('Sum of moves:', total)"
   ]
  },
  {
   "cell_type": "markdown",
   "metadata": {},
   "source": [
    "**For n=25, how many knights with 0<a<=b cannot reach (24,24)?**"
   ]
  },
  {
   "cell_type": "code",
   "execution_count": 5,
   "metadata": {},
   "outputs": [
    {
     "name": "stdout",
     "output_type": "stream",
     "text": [
      "130\n"
     ]
    }
   ],
   "source": [
    "total = 0\n",
    "for i in range(1,25):\n",
    "    for j in range(1,25):\n",
    "        if (i <= j):\n",
    "            k = Knight(i, j, 25)\n",
    "            res = k.shortest_path()\n",
    "            if res == (0,0,0):\n",
    "                total += 1\n",
    "print(total)"
   ]
  }
 ],
 "metadata": {
  "kernelspec": {
   "display_name": "Python 3",
   "language": "python",
   "name": "python3"
  },
  "language_info": {
   "codemirror_mode": {
    "name": "ipython",
    "version": 3
   },
   "file_extension": ".py",
   "mimetype": "text/x-python",
   "name": "python",
   "nbconvert_exporter": "python",
   "pygments_lexer": "ipython3",
   "version": "3.6.5"
  }
 },
 "nbformat": 4,
 "nbformat_minor": 2
}
