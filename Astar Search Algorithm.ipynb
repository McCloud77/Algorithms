{
 "cells": [
  {
   "cell_type": "markdown",
   "metadata": {},
   "source": [
    "A* is an informed search algorithm, or a best-first search, meaning that it is formulated in terms of weighted graphs: starting from a specific starting node of a graph, it aims to find a path to the given goal node having the smallest cost (least distance travelled, shortest time, etc.). It does this by maintaining a tree of paths originating at the start node and extending those paths one edge at a time until its termination criterion is satisfied. "
   ]
  },
  {
   "cell_type": "markdown",
   "metadata": {},
   "source": [
    "### Load libraries."
   ]
  },
  {
   "cell_type": "code",
   "execution_count": 1,
   "metadata": {},
   "outputs": [],
   "source": [
    "import numpy as np\n",
    "import pandas as pd\n",
    "import heapq\n",
    "import networkx as nx\n",
    "from collections import defaultdict\n",
    "import matplotlib.pyplot as plt"
   ]
  },
  {
   "cell_type": "markdown",
   "metadata": {},
   "source": [
    "### Read data files."
   ]
  },
  {
   "cell_type": "markdown",
   "metadata": {},
   "source": [
    "Each row of `df_nodes` is of the form ID, x, y, heuristic-cost-to-go. ID is the unique integer ID number of the node, and these ID numbers should take values 1 through N. The values x and y are the (x,y) coordinates of the node in the plane. Heuristic-cost-to-go is an optimistic approximation of the shortest path from this node to the goal node (e.g., the Euclidean distance to the goal node). If there are N nodes, numbered 1...N in `df_nodes.csv`, you can assume that node 1 is the start node and node N is the goal node."
   ]
  },
  {
   "cell_type": "code",
   "execution_count": 2,
   "metadata": {},
   "outputs": [
    {
     "data": {
      "text/html": [
       "<div>\n",
       "<style scoped>\n",
       "    .dataframe tbody tr th:only-of-type {\n",
       "        vertical-align: middle;\n",
       "    }\n",
       "\n",
       "    .dataframe tbody tr th {\n",
       "        vertical-align: top;\n",
       "    }\n",
       "\n",
       "    .dataframe thead th {\n",
       "        text-align: right;\n",
       "    }\n",
       "</style>\n",
       "<table border=\"1\" class=\"dataframe\">\n",
       "  <thead>\n",
       "    <tr style=\"text-align: right;\">\n",
       "      <th></th>\n",
       "      <th>id</th>\n",
       "      <th>x</th>\n",
       "      <th>y</th>\n",
       "      <th>heuristic_cost</th>\n",
       "    </tr>\n",
       "  </thead>\n",
       "  <tbody>\n",
       "    <tr>\n",
       "      <th>0</th>\n",
       "      <td>1</td>\n",
       "      <td>-0.5000</td>\n",
       "      <td>-0.5000</td>\n",
       "      <td>1.4142</td>\n",
       "    </tr>\n",
       "    <tr>\n",
       "      <th>1</th>\n",
       "      <td>2</td>\n",
       "      <td>-0.0900</td>\n",
       "      <td>-0.4000</td>\n",
       "      <td>1.0762</td>\n",
       "    </tr>\n",
       "    <tr>\n",
       "      <th>2</th>\n",
       "      <td>3</td>\n",
       "      <td>-0.2850</td>\n",
       "      <td>-0.3050</td>\n",
       "      <td>1.1244</td>\n",
       "    </tr>\n",
       "    <tr>\n",
       "      <th>3</th>\n",
       "      <td>4</td>\n",
       "      <td>0.0575</td>\n",
       "      <td>-0.2250</td>\n",
       "      <td>0.8494</td>\n",
       "    </tr>\n",
       "    <tr>\n",
       "      <th>4</th>\n",
       "      <td>5</td>\n",
       "      <td>-0.0525</td>\n",
       "      <td>-0.0175</td>\n",
       "      <td>0.7604</td>\n",
       "    </tr>\n",
       "  </tbody>\n",
       "</table>\n",
       "</div>"
      ],
      "text/plain": [
       "   id       x       y  heuristic_cost\n",
       "0   1 -0.5000 -0.5000          1.4142\n",
       "1   2 -0.0900 -0.4000          1.0762\n",
       "2   3 -0.2850 -0.3050          1.1244\n",
       "3   4  0.0575 -0.2250          0.8494\n",
       "4   5 -0.0525 -0.0175          0.7604"
      ]
     },
     "execution_count": 2,
     "metadata": {},
     "output_type": "execute_result"
    }
   ],
   "source": [
    "col_names = ['id', 'x', 'y', 'heuristic_cost']\n",
    "df_nodes = pd.read_csv('planar_graph/nodes.csv', sep=',', comment='#', header=None, names=col_names)\n",
    "df_nodes.head()"
   ]
  },
  {
   "cell_type": "markdown",
   "metadata": {},
   "source": [
    "If the graph has E edges, then the data in `df_edges` has E rows. Each row is of the form ID1, ID2, cost. ID1 and ID2 are the node IDs of the nodes connected by the edge. The feature actual_cost is the cost (weight) of traversing that edge."
   ]
  },
  {
   "cell_type": "code",
   "execution_count": 3,
   "metadata": {},
   "outputs": [
    {
     "data": {
      "text/html": [
       "<div>\n",
       "<style scoped>\n",
       "    .dataframe tbody tr th:only-of-type {\n",
       "        vertical-align: middle;\n",
       "    }\n",
       "\n",
       "    .dataframe tbody tr th {\n",
       "        vertical-align: top;\n",
       "    }\n",
       "\n",
       "    .dataframe thead th {\n",
       "        text-align: right;\n",
       "    }\n",
       "</style>\n",
       "<table border=\"1\" class=\"dataframe\">\n",
       "  <thead>\n",
       "    <tr style=\"text-align: right;\">\n",
       "      <th></th>\n",
       "      <th>id1</th>\n",
       "      <th>id2</th>\n",
       "      <th>actual_cost</th>\n",
       "    </tr>\n",
       "  </thead>\n",
       "  <tbody>\n",
       "    <tr>\n",
       "      <th>0</th>\n",
       "      <td>12</td>\n",
       "      <td>11</td>\n",
       "      <td>0.2140</td>\n",
       "    </tr>\n",
       "    <tr>\n",
       "      <th>1</th>\n",
       "      <td>12</td>\n",
       "      <td>10</td>\n",
       "      <td>0.3135</td>\n",
       "    </tr>\n",
       "    <tr>\n",
       "      <th>2</th>\n",
       "      <td>12</td>\n",
       "      <td>8</td>\n",
       "      <td>0.5014</td>\n",
       "    </tr>\n",
       "    <tr>\n",
       "      <th>3</th>\n",
       "      <td>11</td>\n",
       "      <td>10</td>\n",
       "      <td>0.1778</td>\n",
       "    </tr>\n",
       "    <tr>\n",
       "      <th>4</th>\n",
       "      <td>11</td>\n",
       "      <td>9</td>\n",
       "      <td>0.4454</td>\n",
       "    </tr>\n",
       "  </tbody>\n",
       "</table>\n",
       "</div>"
      ],
      "text/plain": [
       "   id1  id2  actual_cost\n",
       "0   12   11       0.2140\n",
       "1   12   10       0.3135\n",
       "2   12    8       0.5014\n",
       "3   11   10       0.1778\n",
       "4   11    9       0.4454"
      ]
     },
     "execution_count": 3,
     "metadata": {},
     "output_type": "execute_result"
    }
   ],
   "source": [
    "col_names = ['id1', 'id2', 'actual_cost']\n",
    "df_edges = pd.read_csv('planar_graph/edges.csv', sep=',', comment='#', header=None, names=col_names)\n",
    "df_edges.head()"
   ]
  },
  {
   "cell_type": "markdown",
   "metadata": {},
   "source": [
    "### Visualize graph."
   ]
  },
  {
   "cell_type": "markdown",
   "metadata": {},
   "source": [
    "NetworkX (imported as `nx`) is a Python package for the creation, manipulation, and study of the structure, dynamics, and functions of complex networks."
   ]
  },
  {
   "cell_type": "code",
   "execution_count": 4,
   "metadata": {},
   "outputs": [
    {
     "data": {
      "image/png": "[encoded data removed]",
      "text/plain": [
       "<Figure size 432x288 with 1 Axes>"
      ]
     },
     "metadata": {},
     "output_type": "display_data"
    },
    {
     "name": "stdout",
     "output_type": "stream",
     "text": [
      "Shortest path found by networkx: [1, 3, 4, 8, 12]\n"
     ]
    }
   ],
   "source": [
    "G = nx.Graph()\n",
    "G.add_nodes_from(df_nodes['id'])\n",
    "G.add_weighted_edges_from(zip(df_edges['id1'], df_edges['id2'], df_edges['actual_cost']))\n",
    "nx.draw_networkx(G)\n",
    "plt.show()\n",
    "# using default search algorithm\n",
    "shortest_path_nx = nx.shortest_path(G,1,12)\n",
    "print(\"Shortest path found by networkx:\", shortest_path_nx)"
   ]
  },
  {
   "cell_type": "markdown",
   "metadata": {},
   "source": [
    "### A$^{*}$-search algorithm."
   ]
  },
  {
   "cell_type": "markdown",
   "metadata": {},
   "source": [
    "The function `astar_search` returns the shortest path between the start node and the goal node, if one exists, as well as a dictionary containing the weights between all pairs of connected nodes. The latter only serves to calculate the actual cost of the paths found by `networkx` and `astar` and it does not need to be returned if the only goal is to find the shortest path."
   ]
  },
  {
   "cell_type": "markdown",
   "metadata": {},
   "source": [
    "First, let's prepare two dictionaries, `neighbors` and `cost` which will contain each node's neighbors and the costs (weights) between connected nodes. Since we do not know a priori in which order the nodes will be visited, the dictionaries need to be symmetric, i.e., each node will be used as a key in the `neighbors` dictionary and an edge between nodes n1 and n2 will be represented with a key (n1, n2) as well as with a key (n2, n1). The information on edges could also be represented in matrix form (see below)."
   ]
  },
  {
   "cell_type": "markdown",
   "metadata": {},
   "source": [
    "Since the dataframes contain information on the actual cost and the heuristic cost as well, it was decided to pass the dataframes 'as-is' to the function `astar_search`. The function assumes that the first and last nodes in `df_nodes` are the start and goal nodes, respectively. "
   ]
  },
  {
   "cell_type": "code",
   "execution_count": 5,
   "metadata": {},
   "outputs": [
    {
     "name": "stdout",
     "output_type": "stream",
     "text": [
      "Shortest path found by astar: [1, 2, 5, 7, 10, 12]\n"
     ]
    }
   ],
   "source": [
    "def astar_search(df_nodes, df_edges):\n",
    "    \"\"\"\n",
    "    Returns the shortest path, if one exists, between a start and goal node\n",
    "    Inputs:\n",
    "    df_nodes, a dataframe with node information including the heuristic cost between each node\n",
    "    and the goal node.\n",
    "    df_edges, a dataframe with edge information\n",
    "    Output:\n",
    "    Cost values for neighboring nodes if a path is found, otherwise -1\n",
    "    A list of nodes from start to goal found by the A-star search algorithm, if one exists.\n",
    "    \"\"\"\n",
    "    # store neighbors for each node in a dictionary\n",
    "    neighbors = defaultdict.fromkeys(df_nodes['id'], [])\n",
    "    for node in df_nodes['id']:\n",
    "        neighbors[node] = set(df_edges['id2'][df_edges['id1']==node])\n",
    "    for node in df_nodes['id']:\n",
    "        neighbors[node].update(set(df_edges['id1'][df_edges['id2']==node]))\n",
    "\n",
    "    # store edge weights for each node pair in a dictionary\n",
    "    weights = zip(df_edges['id1'], df_edges['id2'])\n",
    "    cost = defaultdict(int)\n",
    "    for idx, val in enumerate(weights):\n",
    "        cost[(val[0], val[1])] = df_edges['actual_cost'].iloc[idx]\n",
    "        cost[(val[1], val[0])] = df_edges['actual_cost'].iloc[idx]\n",
    "\n",
    "    # declare and initialize a list to store path information   \n",
    "    parent = [None] * (df_nodes.shape[0] + 1)\n",
    "\n",
    "    # declare and initialize a list to store past cost information\n",
    "    past_cost = [float('inf') for x in range(df_nodes.shape[0]+1)]\n",
    "    past_cost[1] = 0\n",
    "\n",
    "    # declare and initialize a list with heuristic costs\n",
    "    for x in range(df_nodes.shape[0]):\n",
    "        heuristic_ctg = [0] + [val for val in df_nodes['heuristic_cost']]\n",
    "\n",
    "    # set goal and start node IDs\n",
    "    goal = df_nodes['id'].iloc[-1]\n",
    "    start = df_nodes['id'].iloc[0]\n",
    "        \n",
    "    # initialize the OPEN heaplist with the start node as follows:\n",
    "    # first element is the past_cost plus the heuristic-cost-to-go\n",
    "    # so it can be used for sorting in the priority queue\n",
    "    # the second element is the node ID\n",
    "    OPEN = [(past_cost[1]+heuristic_ctg[1], start)]\n",
    "    heapq.heapify(OPEN)\n",
    "    # list to hold visited nodes\n",
    "    CLOSED = []\n",
    "    #list to hold path informtion\n",
    "    path = []\n",
    "\n",
    "    # the actual search algorithm\n",
    "    while len(OPEN) != 0:\n",
    "        current = heapq.heappop(OPEN)\n",
    "        CLOSED.append(current[1])\n",
    "        if current[1] == goal:\n",
    "            path.append(goal)\n",
    "            while start not in path:\n",
    "                prnt = parent[path[-1]]\n",
    "                path.append(prnt)\n",
    "            return (cost, path[::-1]) # SUCCESS\n",
    "        nbrs = [x for x in neighbors[current[1]] if x not in CLOSED]\n",
    "        for nbr in nbrs:\n",
    "            tent_past_cost = past_cost[current[1]] + cost[(current[1]), nbr]\n",
    "            if tent_past_cost < past_cost[nbr]:\n",
    "                past_cost[nbr] = tent_past_cost\n",
    "                parent[nbr] = current[1]\n",
    "                heapq.heappush(OPEN, (past_cost[nbr]+heuristic_ctg[nbr], nbr))\n",
    "                \n",
    "    return (-1, \"Failed to find solution\")\n",
    "\n",
    "cost, shortest_path_astar = astar_search(df_nodes, df_edges)\n",
    "print(\"Shortest path found by astar:\", shortest_path_astar)"
   ]
  },
  {
   "cell_type": "code",
   "execution_count": 6,
   "metadata": {
    "collapsed": true
   },
   "outputs": [],
   "source": [
    "# save shortest path in a csv file\n",
    "path_list = ','.join(map(str, shortest_path_astar))\n",
    "np.savetxt(\"planar_graph/path.csv\", [path_list], fmt=\"%s\")"
   ]
  },
  {
   "cell_type": "markdown",
   "metadata": {},
   "source": [
    "### Compare path solutions."
   ]
  },
  {
   "cell_type": "code",
   "execution_count": 7,
   "metadata": {},
   "outputs": [
    {
     "name": "stdout",
     "output_type": "stream",
     "text": [
      "Shortest path length found by networkx: 1.6233999999999997\n",
      "\n",
      "Shortest path length found by astar: 1.6132999999999997\n"
     ]
    }
   ],
   "source": [
    "path_cost = sum([cost[(shortest_path_nx[i], shortest_path_nx[i+1])] for i in range(len(shortest_path_nx)-1)])\n",
    "print(\"Shortest path length found by networkx:\", path_cost)\n",
    "\n",
    "path_cost = sum([cost[(shortest_path_astar[i], shortest_path_astar[i+1])] for i in range(len(shortest_path_astar)-1)])\n",
    "print(\"\\nShortest path length found by astar:\", path_cost)"
   ]
  },
  {
   "cell_type": "markdown",
   "metadata": {},
   "source": [
    "### Using numpy to generate a matrix with weights."
   ]
  },
  {
   "cell_type": "markdown",
   "metadata": {},
   "source": [
    "One could use a symmetric matrix to store the edge weights where the value in $a_{i,j}$ is the same as the value in $a_{j,i}$. In this case, the matrix is sparsely populated and hence the choice of a dictionary in the current implementation of the $A^{*}$ search algorithm."
   ]
  },
  {
   "cell_type": "code",
   "execution_count": 8,
   "metadata": {
    "collapsed": true
   },
   "outputs": [],
   "source": [
    "nodes = np.genfromtxt('planar_graph/nodes.csv', comments=\"#\", delimiter=',')\n",
    "edges = np.genfromtxt('planar_graph/edges.csv', comments=\"#\", delimiter=',')"
   ]
  },
  {
   "cell_type": "code",
   "execution_count": 9,
   "metadata": {},
   "outputs": [
    {
     "name": "stdout",
     "output_type": "stream",
     "text": [
      "[[0.     0.     0.     0.     0.     0.     0.     0.     0.     0.     0.     0.     0.    ]\n",
      " [0.     0.     0.422  0.2903 0.     0.     0.     0.     0.     0.     0.     0.     0.    ]\n",
      " [0.     0.422  0.     0.2169 0.2289 0.179  0.     0.     0.     0.     0.     0.     0.    ]\n",
      " [0.     0.2903 0.2169 0.     0.3517 0.     0.     0.     0.     0.     0.     0.     0.    ]\n",
      " [0.     0.     0.2289 0.3517 0.     0.11   0.     0.     0.48   0.     0.     0.     0.    ]\n",
      " [0.     0.     0.179  0.     0.11   0.     0.     0.4402 0.     0.5994 0.     0.     0.    ]\n",
      " [0.     0.     0.     0.     0.     0.     0.     0.     0.     0.2796 0.     0.     0.    ]\n",
      " [0.     0.     0.     0.     0.     0.4402 0.     0.     0.     0.     0.2586 0.     0.    ]\n",
      " [0.     0.     0.     0.     0.48   0.     0.     0.     0.     0.2005 0.     0.     0.5014]\n",
      " [0.     0.     0.     0.     0.     0.5994 0.2796 0.     0.2005 0.     0.     0.4454 0.    ]\n",
      " [0.     0.     0.     0.     0.     0.     0.     0.2586 0.     0.     0.     0.1778 0.3135]\n",
      " [0.     0.     0.     0.     0.     0.     0.     0.     0.     0.4454 0.1778 0.     0.214 ]\n",
      " [0.     0.     0.     0.     0.     0.     0.     0.     0.5014 0.     0.3135 0.214  0.    ]]\n"
     ]
    }
   ],
   "source": [
    "weights = np.zeros((nodes.shape[0]+1, nodes.shape[0]+1))\n",
    "\n",
    "for i in range(edges.shape[0]):\n",
    "    weights[int(edges[i][0]),int(edges[i][1])] = edges[i][2]\n",
    "    weights[int(edges[i][1]),int(edges[i][0])] = edges[i][2]\n",
    "\n",
    "np.set_printoptions(linewidth=110)\n",
    "print(weights)"
   ]
  },
  {
   "cell_type": "code",
   "execution_count": null,
   "metadata": {
    "collapsed": true
   },
   "outputs": [],
   "source": []
  }
 ],
 "metadata": {
  "kernelspec": {
   "display_name": "Python 3",
   "language": "python",
   "name": "python3"
  },
  "language_info": {
   "codemirror_mode": {
    "name": "ipython",
    "version": 3
   },
   "file_extension": ".py",
   "mimetype": "text/x-python",
   "name": "python",
   "nbconvert_exporter": "python",
   "pygments_lexer": "ipython3",
   "version": "3.6.5"
  }
 },
 "nbformat": 4,
 "nbformat_minor": 2
}
